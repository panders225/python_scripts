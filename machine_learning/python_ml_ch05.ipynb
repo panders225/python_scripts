{
 "cells": [
  {
   "cell_type": "code",
   "execution_count": 2,
   "metadata": {
    "collapsed": false
   },
   "outputs": [],
   "source": [
    "#working through chapter 05 of Python Machine Learning\n",
    "# available from PACKT Publishing\n",
    "\n",
    "# This chapter will work through dimensionality reduction"
   ]
  },
  {
   "cell_type": "code",
   "execution_count": 3,
   "metadata": {
    "collapsed": true
   },
   "outputs": [],
   "source": [
    "# bring in a wine data set\n",
    "import pandas as pd\n",
    "df_wine = pd.read_csv('https://archive.ics.uci.edu/ml/machine-learning-databases/wine/wine.data', header=None)\n",
    "\n"
   ]
  },
  {
   "cell_type": "code",
   "execution_count": 6,
   "metadata": {
    "collapsed": false
   },
   "outputs": [],
   "source": [
    "from sklearn.cross_validation import train_test_split\n",
    "from sklearn.preprocessing import StandardScaler\n",
    "X, y = df_wine.iloc[:, 1:].values, df_wine.iloc[:, 0].values\n",
    "X_train, X_test, y_train, y_test = train_test_split(X, y\n",
    "                                                   , test_size=0.3\n",
    "                                                   , random_state=0\n",
    "                                                   )\n",
    "sc = StandardScaler()\n",
    "X_train_std = sc.fit_transform(X_train)\n",
    "X_test_std = sc.transform(X_test)"
   ]
  },
  {
   "cell_type": "code",
   "execution_count": 13,
   "metadata": {
    "collapsed": false
   },
   "outputs": [
    {
     "name": "stdout",
     "output_type": "stream",
     "text": [
      "\n",
      "Eigenvalues \n",
      "[ 4.8923083   2.46635032  1.42809973  1.01233462  0.84906459  0.60181514\n",
      "  0.52251546  0.08414846  0.33051429  0.29595018  0.16831254  0.21432212\n",
      "  0.2399553 ]\n"
     ]
    }
   ],
   "source": [
    "# extract eigenvectors and eigenvalues from the above matrices\n",
    "import numpy as np\n",
    "cov_mat = np.cov(X_train_std.T)\n",
    "eigen_vals, eigen_vecs = np.linalg.eig(cov_mat)\n",
    "print('\\nEigenvalues \\n%s' % eigen_vals)\n"
   ]
  },
  {
   "cell_type": "code",
   "execution_count": 19,
   "metadata": {
    "collapsed": false
   },
   "outputs": [
    {
     "data": {
      "text/plain": [
       "<matplotlib.legend.Legend at 0xb797518>"
      ]
     },
     "execution_count": 19,
     "metadata": {},
     "output_type": "execute_result"
    },
    {
     "data": {
      "image/png": "[encoded data removed]",
      "text/plain": [
       "<matplotlib.figure.Figure at 0xb6bc828>"
      ]
     },
     "metadata": {},
     "output_type": "display_data"
    }
   ],
   "source": [
    "# generate graphic for cumulative sum of explained variance\n",
    "tot = sum(eigen_vals)\n",
    "var_exp = [(i / tot) for i in \n",
    "           sorted(eigen_vals, reverse=True)]\n",
    "cum_var_exp = np.cumsum(var_exp)\n",
    "\n",
    "import matplotlib.pyplot as plt\n",
    "%matplotlib inline\n",
    "plt.bar(range(1,14), var_exp, alpha=0.5, align='center'\n",
    "       , label = 'individual explained variance')\n",
    "plt.step(range(1,14), cum_var_exp, where='mid'\n",
    "        , label='cumulative explained variance')\n",
    "plt.ylabel('Explained variance ratio')\n",
    "plt.xlabel('Principal components')\n",
    "plt.legend(loc='best')"
   ]
  },
  {
   "cell_type": "code",
   "execution_count": 21,
   "metadata": {
    "collapsed": true
   },
   "outputs": [],
   "source": [
    "eigen_pairs = [(np.abs(eigen_vals[i]), eigen_vecs[:,i])\n",
    "              for i in range(len(eigen_vals))]\n",
    "eigen_pairs.sort(reverse=True)"
   ]
  },
  {
   "cell_type": "code",
   "execution_count": 35,
   "metadata": {
    "collapsed": false
   },
   "outputs": [
    {
     "name": "stdout",
     "output_type": "stream",
     "text": [
      "('Matrix W:', array([[ 0.14669811,  0.50417079],\n",
      "       [-0.24224554,  0.24216889],\n",
      "       [-0.02993442,  0.28698484],\n",
      "       [-0.25519002, -0.06468718],\n",
      "       [ 0.12079772,  0.22995385],\n",
      "       [ 0.38934455,  0.09363991],\n",
      "       [ 0.42326486,  0.01088622],\n",
      "       [-0.30634956,  0.01870216],\n",
      "       [ 0.30572219,  0.03040352],\n",
      "       [-0.09869191,  0.54527081],\n",
      "       [ 0.30032535, -0.27924322],\n",
      "       [ 0.36821154, -0.174365  ],\n",
      "       [ 0.29259713,  0.36315461]]))\n"
     ]
    }
   ],
   "source": [
    "w = np.hstack((eigen_pairs[0][1][:, np.newaxis]\n",
    "          ,eigen_pairs[1][1][:, np.newaxis]\n",
    "          ))\n",
    "print('Matrix W:', w)"
   ]
  },
  {
   "cell_type": "code",
   "execution_count": 45,
   "metadata": {
    "collapsed": false
   },
   "outputs": [
    {
     "data": {
      "image/png": "[encoded data removed]",
      "text/plain": [
       "<matplotlib.figure.Figure at 0xb51ca58>"
      ]
     },
     "metadata": {},
     "output_type": "display_data"
    }
   ],
   "source": [
    "# we now have a projection matrix from our top-two eigenvectors\n",
    "# we can now transform a 2-D sample vector with a dot product\n",
    "\n",
    "X_train_pca = X_train_std[0].dot(w)\n",
    "\n",
    "# visualize\n",
    "colors = ['r', 'b', 'g']\n",
    "markers = ['s', 'x', 'o']\n",
    "for l,c, m in zip(np.unique(y_train), colors, markers):\n",
    "    plt.scatter(X_train[y_train==1, 0]\n",
    "               , X_train[y_train==1, 1]\n",
    "               , c=c, label=l, marker=m)\n",
    "    "
   ]
  },
  {
   "cell_type": "code",
   "execution_count": 44,
   "metadata": {
    "collapsed": false
   },
   "outputs": [
    {
     "data": {
      "text/plain": [
       "array([ 13.71,  13.3 ,  13.16,  13.24,  14.1 ,  13.05,  13.94,  14.1 ,\n",
       "        14.75,  12.85,  14.06,  13.63,  13.82,  14.37,  14.39,  13.75,\n",
       "        14.38,  14.23,  14.38,  14.12,  13.48,  13.29,  13.41,  13.2 ,\n",
       "        13.88,  13.83,  13.07,  13.77,  13.51,  13.87,  13.58,  13.68,\n",
       "        14.02,  13.05,  14.22,  13.72,  13.28,  12.93,  13.86,  13.9 ])"
      ]
     },
     "execution_count": 44,
     "metadata": {},
     "output_type": "execute_result"
    }
   ],
   "source": [
    "X_train[y_train==1, 0]"
   ]
  }
 ],
 "metadata": {
  "kernelspec": {
   "display_name": "Python 2",
   "language": "python",
   "name": "python2"
  },
  "language_info": {
   "codemirror_mode": {
    "name": "ipython",
    "version": 2
   },
   "file_extension": ".py",
   "mimetype": "text/x-python",
   "name": "python",
   "nbconvert_exporter": "python",
   "pygments_lexer": "ipython2",
   "version": "2.7.11"
  }
 },
 "nbformat": 4,
 "nbformat_minor": 0
}
