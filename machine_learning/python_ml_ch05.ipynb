{
 "cells": [
  {
   "cell_type": "code",
   "execution_count": 2,
   "metadata": {
    "collapsed": false
   },
   "outputs": [],
   "source": [
    "#working through chapter 05 of Python Machine Learning\n",
    "# available from PACKT Publishing\n",
    "\n",
    "# This chapter will work through dimensionality reduction"
   ]
  },
  {
   "cell_type": "code",
   "execution_count": 3,
   "metadata": {
    "collapsed": true
   },
   "outputs": [],
   "source": [
    "# bring in a wine data set\n",
    "import pandas as pd\n",
    "df_wine = pd.read_csv('https://archive.ics.uci.edu/ml/machine-learning-databases/wine/wine.data', header=None)\n",
    "\n"
   ]
  },
  {
   "cell_type": "code",
   "execution_count": 6,
   "metadata": {
    "collapsed": false
   },
   "outputs": [],
   "source": [
    "from sklearn.cross_validation import train_test_split\n",
    "from sklearn.preprocessing import StandardScaler\n",
    "X, y = df_wine.iloc[:, 1:].values, df_wine.iloc[:, 0].values\n",
    "X_train, X_test, y_train, y_test = train_test_split(X, y\n",
    "                                                   , test_size=0.3\n",
    "                                                   , random_state=0\n",
    "                                                   )\n",
    "sc = StandardScaler()\n",
    "X_train_std = sc.fit_transform(X_train)\n",
    "X_test_std = sc.transform(X_test)"
   ]
  },
  {
   "cell_type": "code",
   "execution_count": 13,
   "metadata": {
    "collapsed": false
   },
   "outputs": [
    {
     "name": "stdout",
     "output_type": "stream",
     "text": [
      "\n",
      "Eigenvalues \n",
      "[ 4.8923083   2.46635032  1.42809973  1.01233462  0.84906459  0.60181514\n",
      "  0.52251546  0.08414846  0.33051429  0.29595018  0.16831254  0.21432212\n",
      "  0.2399553 ]\n"
     ]
    }
   ],
   "source": [
    "# extract eigenvectors and eigenvalues from the above matrices\n",
    "import numpy as np\n",
    "cov_mat = np.cov(X_train_std.T)\n",
    "eigen_vals, eigen_vecs = np.linalg.eig(cov_mat)\n",
    "print('\\nEigenvalues \\n%s' % eigen_vals)\n"
   ]
  },
  {
   "cell_type": "code",
   "execution_count": 7,
   "metadata": {
    "collapsed": false
   },
   "outputs": [
    {
     "ename": "NameError",
     "evalue": "name 'eigen_vals' is not defined",
     "output_type": "error",
     "traceback": [
      "\u001b[1;31m---------------------------------------------------------------------------\u001b[0m",
      "\u001b[1;31mNameError\u001b[0m                                 Traceback (most recent call last)",
      "\u001b[1;32m<ipython-input-7-c9a6b23254b3>\u001b[0m in \u001b[0;36m<module>\u001b[1;34m()\u001b[0m\n\u001b[0;32m      1\u001b[0m \u001b[1;31m# generate graphic for cumulative sum of explained variance\u001b[0m\u001b[1;33m\u001b[0m\u001b[1;33m\u001b[0m\u001b[0m\n\u001b[1;32m----> 2\u001b[1;33m \u001b[0mtot\u001b[0m \u001b[1;33m=\u001b[0m \u001b[0msum\u001b[0m\u001b[1;33m(\u001b[0m\u001b[0meigen_vals\u001b[0m\u001b[1;33m)\u001b[0m\u001b[1;33m\u001b[0m\u001b[0m\n\u001b[0m\u001b[0;32m      3\u001b[0m var_exp = [(i / tot) for i in \n\u001b[0;32m      4\u001b[0m            sorted(eigen_vals, reverse=True)]\n\u001b[0;32m      5\u001b[0m \u001b[0mcum_var_exp\u001b[0m \u001b[1;33m=\u001b[0m \u001b[0mnp\u001b[0m\u001b[1;33m.\u001b[0m\u001b[0mcumsum\u001b[0m\u001b[1;33m(\u001b[0m\u001b[0mvar_exp\u001b[0m\u001b[1;33m)\u001b[0m\u001b[1;33m\u001b[0m\u001b[0m\n",
      "\u001b[1;31mNameError\u001b[0m: name 'eigen_vals' is not defined"
     ]
    }
   ],
   "source": [
    "# generate graphic for cumulative sum of explained variance\n",
    "tot = sum(eigen_vals)\n",
    "var_exp = [(i / tot) for i in \n",
    "           sorted(eigen_vals, reverse=True)]\n",
    "cum_var_exp = np.cumsum(var_exp)\n",
    "\n",
    "import matplotlib.pyplot as plt\n",
    "%matplotlib inline\n",
    "plt.bar(range(1,14), var_exp, alpha=0.5, align='center'\n",
    "       , label = 'individual explained variance')\n",
    "plt.step(range(1,14), cum_var_exp, where='mid'\n",
    "        , label='cumulative explained variance')\n",
    "plt.ylabel('Explained variance ratio')\n",
    "plt.xlabel('Principal components')\n",
    "plt.legend(loc='best')"
   ]
  },
  {
   "cell_type": "code",
   "execution_count": 21,
   "metadata": {
    "collapsed": true
   },
   "outputs": [],
   "source": [
    "eigen_pairs = [(np.abs(eigen_vals[i]), eigen_vecs[:,i])\n",
    "              for i in range(len(eigen_vals))]\n",
    "eigen_pairs.sort(reverse=True)"
   ]
  },
  {
   "cell_type": "code",
   "execution_count": 35,
   "metadata": {
    "collapsed": false
   },
   "outputs": [
    {
     "name": "stdout",
     "output_type": "stream",
     "text": [
      "('Matrix W:', array([[ 0.14669811,  0.50417079],\n",
      "       [-0.24224554,  0.24216889],\n",
      "       [-0.02993442,  0.28698484],\n",
      "       [-0.25519002, -0.06468718],\n",
      "       [ 0.12079772,  0.22995385],\n",
      "       [ 0.38934455,  0.09363991],\n",
      "       [ 0.42326486,  0.01088622],\n",
      "       [-0.30634956,  0.01870216],\n",
      "       [ 0.30572219,  0.03040352],\n",
      "       [-0.09869191,  0.54527081],\n",
      "       [ 0.30032535, -0.27924322],\n",
      "       [ 0.36821154, -0.174365  ],\n",
      "       [ 0.29259713,  0.36315461]]))\n"
     ]
    }
   ],
   "source": [
    "w = np.hstack((eigen_pairs[0][1][:, np.newaxis]\n",
    "          ,eigen_pairs[1][1][:, np.newaxis]\n",
    "          ))\n",
    "print('Matrix W:', w)"
   ]
  },
  {
   "cell_type": "code",
   "execution_count": 45,
   "metadata": {
    "collapsed": false
   },
   "outputs": [
    {
     "data": {
      "image/png": "[encoded data removed]",
      "text/plain": [
       "<matplotlib.figure.Figure at 0xb51ca58>"
      ]
     },
     "metadata": {},
     "output_type": "display_data"
    }
   ],
   "source": [
    "# we now have a projection matrix from our top-two eigenvectors\n",
    "# we can now transform a 2-D sample vector with a dot product\n",
    "\n",
    "X_train_pca = X_train_std[0].dot(w)\n",
    "\n",
    "# visualize\n",
    "colors = ['r', 'b', 'g']\n",
    "markers = ['s', 'x', 'o']\n",
    "for l,c, m in zip(np.unique(y_train), colors, markers):\n",
    "    plt.scatter(X_train[y_train==1, 0]\n",
    "               , X_train[y_train==1, 1]\n",
    "               , c=c, label=l, marker=m)\n",
    "    "
   ]
  },
  {
   "cell_type": "code",
   "execution_count": 44,
   "metadata": {
    "collapsed": false
   },
   "outputs": [
    {
     "data": {
      "text/plain": [
       "array([ 13.71,  13.3 ,  13.16,  13.24,  14.1 ,  13.05,  13.94,  14.1 ,\n",
       "        14.75,  12.85,  14.06,  13.63,  13.82,  14.37,  14.39,  13.75,\n",
       "        14.38,  14.23,  14.38,  14.12,  13.48,  13.29,  13.41,  13.2 ,\n",
       "        13.88,  13.83,  13.07,  13.77,  13.51,  13.87,  13.58,  13.68,\n",
       "        14.02,  13.05,  14.22,  13.72,  13.28,  12.93,  13.86,  13.9 ])"
      ]
     },
     "execution_count": 44,
     "metadata": {},
     "output_type": "execute_result"
    }
   ],
   "source": [
    "X_train[y_train==1, 0]"
   ]
  },
  {
   "cell_type": "code",
   "execution_count": 40,
   "metadata": {
    "collapsed": false
   },
   "outputs": [],
   "source": [
    "# implement a kernel PCA\n",
    "# using the radial basis function kernel\n",
    "\n",
    "from scipy.spatial.distance import pdist, squareform\n",
    "from scipy import exp\n",
    "from scipy.linalg import eigh\n",
    "import numpy as np\n",
    "\n",
    "def rbf_kernel_pca(X, gamma, n_components):\n",
    "    \"\"\"\n",
    "    RBF kernel PCA implementation\n",
    "    \n",
    "    Parameters\n",
    "    \n",
    "    X: (numpy ndarray), shape = {n_samples, n_features}\n",
    "    \n",
    "    gamma: float\n",
    "        Tuning parameter of the RBF kernel\n",
    "    \n",
    "    n_components: int\n",
    "        Number of principal components to return\n",
    "        \n",
    "    Returns\n",
    "    \n",
    "    X_pc: (numpy ndarray), shape = {n_samples, k_features}\n",
    "        Projected dataset\n",
    "    \n",
    "    \"\"\"\n",
    "    \n",
    "    # calculate pairwise squared Euclidean distances\n",
    "    # in the MXN dimensional dataset\n",
    "    sq_dists = pdist(X, 'sqeuclidean')\n",
    "    \n",
    "    # convert pairwise distances into a square matrix\n",
    "    mat_sq_dists = squareform(sq_dists)\n",
    "    \n",
    "    # compute the symmetric kernel matrix\n",
    "    K = exp(-gamma * mat_sq_dists)\n",
    "    \n",
    "    # center the kernel matrix\n",
    "    N = K.shape[0]\n",
    "    one_n = np.ones((N,N)) / N\n",
    "    K = K - one_n.dot(K) - K.dot(one_n) + one_n.dot(K).dot(one_n)\n",
    "    \n",
    "    # obtain eigenpairs from the centered kernel matrix\n",
    "    eigvals, eigvecs = eigh(K)\n",
    "    \n",
    "    # collect the top k eigenvectors (projected samples)\n",
    "    X_pc = np.column_stack((eigvecs[:, -i]\n",
    "                           for i in range(1, n_components + 1)\n",
    "                           ))\n",
    "    \n",
    "    return X_pc"
   ]
  },
  {
   "cell_type": "code",
   "execution_count": 20,
   "metadata": {
    "collapsed": false
   },
   "outputs": [
    {
     "data": {
      "text/plain": [
       "<matplotlib.collections.PathCollection at 0x9925c18>"
      ]
     },
     "execution_count": 20,
     "metadata": {},
     "output_type": "execute_result"
    },
    {
     "data": {
      "image/png": "[encoded data removed]",
      "text/plain": [
       "<matplotlib.figure.Figure at 0x9957278>"
      ]
     },
     "metadata": {},
     "output_type": "display_data"
    }
   ],
   "source": [
    "# let's implement the RBF PCA approach to a dataset\n",
    "# this one contains info on half-moon shapes - should be \n",
    "# an ideal application for RBFs\n",
    "\n",
    "from sklearn.datasets import make_moons\n",
    "X, y = make_moons(n_samples=100, random_state=123)\n",
    "plt.scatter(X[y==0, 0], X[y==0, 1]\n",
    "           , color='red', marker='^', alpha=0.5\n",
    "           )\n",
    "plt.scatter(X[y==1, 0], X[y==1, 1]\n",
    "           , color='blue', marker='p', alpha=0.5\n",
    "           )"
   ]
  },
  {
   "cell_type": "code",
   "execution_count": 36,
   "metadata": {
    "collapsed": false
   },
   "outputs": [
    {
     "data": {
      "text/plain": [
       "<matplotlib.text.Text at 0xc19dbe0>"
      ]
     },
     "execution_count": 36,
     "metadata": {},
     "output_type": "execute_result"
    },
    {
     "data": {
      "image/png": "[encoded data removed]",
      "text/plain": [
       "<matplotlib.figure.Figure at 0xadc9d30>"
      ]
     },
     "metadata": {},
     "output_type": "display_data"
    }
   ],
   "source": [
    "# in order to make these points linearly-separable, we will\n",
    "# need to project them into a different-dimensional space \n",
    "\n",
    "from sklearn.decomposition import PCA\n",
    "scikit_pca = PCA(n_components=2)\n",
    "X_spca = scikit_pca.fit_transform(X)\n",
    "# plot this transformation\n",
    "fig, ax = plt.subplots(nrows=1, ncols=2, figsize=(7,3))\n",
    "ax[0].scatter(X_spca[y==0, 0], X_spca[y==0, 1]\n",
    "             , color='red', marker='^', alpha=0.5\n",
    "             )\n",
    "ax[0].scatter(X_spca[y==1, 0], X_spca[y==1, 1]\n",
    "             , color='blue', marker='o', alpha=0.5\n",
    "             )\n",
    "ax[1].scatter(X_spca[y==0,0], np.zeros((50,1))+0.02\n",
    "              , color='red', marker='^', alpha=0.5\n",
    "             )\n",
    "ax[1].scatter(X_spca[y==1, 0], np.zeros((50,1))-0.02\n",
    "              , color='blue', marker='o', alpha=0.5\n",
    "             )\n",
    "ax[0].set_xlabel('PC1')\n",
    "ax[0].set_ylabel('PC2')\n",
    "ax[1].set_ylim([-1,1])\n",
    "ax[1].set_yticks([1])\n",
    "ax[1].set_xlabel('PC1')\n",
    "# we can see that the out-of-the-box PCA will not work"
   ]
  },
  {
   "cell_type": "code",
   "execution_count": 46,
   "metadata": {
    "collapsed": false,
    "scrolled": true
   },
   "outputs": [
    {
     "data": {
      "text/plain": [
       "<matplotlib.collections.PathCollection at 0xbe53d30>"
      ]
     },
     "execution_count": 46,
     "metadata": {},
     "output_type": "execute_result"
    },
    {
     "data": {
      "image/png": "[encoded data removed]",
      "text/plain": [
       "<matplotlib.figure.Figure at 0xd2a6d30>"
      ]
     },
     "metadata": {},
     "output_type": "display_data"
    }
   ],
   "source": [
    "from matplotlib.ticker import FormatStrFormatter\n",
    "X_kpca = rbf_kernel_pca(X, gamma=15, n_components=2)\n",
    "fix, ax = plt.subplots(nrows=1, ncols=2, figsize=(7,3))\n",
    "ax[0].scatter(X_kpca[y==0, 0], X_kpca[y==0, 1]\n",
    "             , color='red', marker='^', alpha=0.5\n",
    "             )\n",
    "ax[0].scatter(X_kpca[y==1, 0], X_kpca[y==1, 1]\n",
    "             , color='blue', marker='o', alpha=0.5\n",
    "             )\n",
    "ax[1].scatter(X_kpca[y==0, 0], np.zeros((50,1))+0.02\n",
    "             , color='red', marker='^', alpha=0.5\n",
    "             )\n",
    "ax[1].scatter(X_kpca[y==1, 0], np.zeros((50,1))-0.02\n",
    "             , color='blue', marker='o', alpha=0.5\n",
    "             )\n"
   ]
  },
  {
   "cell_type": "code",
   "execution_count": 48,
   "metadata": {
    "collapsed": true
   },
   "outputs": [],
   "source": [
    "# modify the rbf_kernel_pca function so that it also\n",
    "# returns the eigenvectors of the kernel matrix\n",
    "\n",
    "from scipy.spatial.distance import pdist, squareform\n",
    "from scipy import exp\n",
    "from scipy.linalg import eigh\n",
    "import numpy as np\n",
    "\n",
    "def rbf_kernel_pca(X, gamma, n_components):\n",
    "    \"\"\"\n",
    "    RBF kernel PCA implementation\n",
    "    \n",
    "    Parameters\n",
    "    \n",
    "    X: (numpy ndarray), shape = {n_samples, n_features}\n",
    "    \n",
    "    gamma: float\n",
    "        Tuning parameter of the RBF kernel\n",
    "    \n",
    "    n_components: int\n",
    "        Number of principal components to return\n",
    "        \n",
    "    Returns\n",
    "    \n",
    "    X_pc: (numpy ndarray), shape = {n_samples, k_features}\n",
    "        Projected dataset\n",
    "   \n",
    "    lambdas: list\n",
    "        Eigenvalues\n",
    "        \n",
    "    \"\"\"\n",
    "    \n",
    "    # calculate pairwise squared Euclidean distances\n",
    "    # in the MXN dimensional dataset\n",
    "    sq_dists = pdist(X, 'sqeuclidean')\n",
    "    \n",
    "    # convert pairwise distances into a square matrix\n",
    "    mat_sq_dists = squareform(sq_dists)\n",
    "    \n",
    "    # compute the symmetric kernel matrix\n",
    "    K = exp(-gamma * mat_sq_dists)\n",
    "    \n",
    "    # center the kernel matrix\n",
    "    N = K.shape[0]\n",
    "    one_n = np.ones((N,N)) / N\n",
    "    K = K - one_n.dot(K) - K.dot(one_n) + one_n.dot(K).dot(one_n)\n",
    "    \n",
    "    # obtain eigenpairs from the centered kernel matrix\n",
    "    eigvals, eigvecs = eigh(K)\n",
    "    \n",
    "    # collect the top k eigenvectors (projected samples)\n",
    "    alphas = np.column_stack((eigvecs[:, -i]\n",
    "                           for i in range(1, n_components + 1)\n",
    "                           ))\n",
    "    lambdas = [eigvals[-i] for i in range(1,n_components + 1)]\n",
    "    \n",
    "    return alphas, lambdas"
   ]
  },
  {
   "cell_type": "code",
   "execution_count": 51,
   "metadata": {
    "collapsed": false
   },
   "outputs": [],
   "source": [
    "X, y = make_moons(n_samples=100, random_state=123)\n",
    "alphas, lambdas = rbf_kernel_pca(X, gamma=15, n_components=1)"
   ]
  },
  {
   "cell_type": "code",
   "execution_count": 57,
   "metadata": {
    "collapsed": false
   },
   "outputs": [
    {
     "name": "stdout",
     "output_type": "stream",
     "text": [
      "[ 1.8713187   0.00928245]\n",
      "[ 0.07877284]\n",
      "[ 0.07877284]\n"
     ]
    }
   ],
   "source": [
    "x_new = X[25]\n",
    "print x_new\n",
    "\n",
    "x_proj = alphas[25]\n",
    "print x_proj\n",
    "\n",
    "def project_x(x_new, X, gamma, alphas, lambdas):\n",
    "    pair_dist = np.array([np.sum(\n",
    "                (x_new-row)**2) for row in X])\n",
    "    k = np.exp(-gamma * pair_dist)\n",
    "    return k.dot(alphas / lambdas)\n",
    "\n",
    "x_reproj = project_x(x_new, X, gamma=15, alphas=alphas, lambdas=lambdas)\n",
    "print x_reproj\n"
   ]
  },
  {
   "cell_type": "code",
   "execution_count": 62,
   "metadata": {
    "collapsed": false
   },
   "outputs": [
    {
     "data": {
      "text/plain": [
       "<matplotlib.legend.Legend at 0xe1726d8>"
      ]
     },
     "execution_count": 62,
     "metadata": {},
     "output_type": "execute_result"
    },
    {
     "data": {
      "image/png": "[encoded data removed]",
      "text/plain": [
       "<matplotlib.figure.Figure at 0xdd6d358>"
      ]
     },
     "metadata": {},
     "output_type": "display_data"
    }
   ],
   "source": [
    "# let's visualize this - we have essentially remapped\n",
    "# one point to where it was mapped initially - this \n",
    "# was the goal\n",
    "\n",
    "plt.scatter(alphas[y==0, 0], np.zeros((50))\n",
    "           , color='red', marker='^', alpha=0.5\n",
    "           )\n",
    "plt.scatter(alphas[y==1, 0], np.zeros((50))\n",
    "           , color='blue', marker='o', alpha=0.5\n",
    "           )\n",
    "plt.scatter(X_proj, 0, color='black'\n",
    "           , label='original projection of point X[25]'\n",
    "           )\n",
    "plt.scatter(x_reproj, 0, color='green'\n",
    "           , label='remapped point X[25]'\n",
    "           , marker='x', s=500\n",
    "           )\n",
    "plt.legend(scatterpoints=1)\n",
    "\n",
    "\n"
   ]
  }
 ],
 "metadata": {
  "kernelspec": {
   "display_name": "Python 2",
   "language": "python",
   "name": "python2"
  },
  "language_info": {
   "codemirror_mode": {
    "name": "ipython",
    "version": 2
   },
   "file_extension": ".py",
   "mimetype": "text/x-python",
   "name": "python",
   "nbconvert_exporter": "python",
   "pygments_lexer": "ipython2",
   "version": "2.7.11"
  }
 },
 "nbformat": 4,
 "nbformat_minor": 0
}
