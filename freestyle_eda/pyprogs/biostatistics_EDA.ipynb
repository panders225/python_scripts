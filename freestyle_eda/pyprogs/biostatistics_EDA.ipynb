{
 "cells": [
  {
   "cell_type": "code",
   "execution_count": 1,
   "metadata": {
    "collapsed": true
   },
   "outputs": [],
   "source": [
    "# This program will bring in data, manipulate it, and perform some basic analysis\n",
    "\n",
    "# For this analysis, I will be looking at some biostatistics data from the following URL\n",
    "# http://biostat.mc.vanderbilt.edu/wiki/Main/DataSets\n",
    "# Data is from a Stress Echocardiography study conducted by UCLA\n",
    "# Full Description available here: http://biostat.mc.vanderbilt.edu/wiki/Main/DataSets\n",
    "\n",
    "# Objective of original study was to predict cardiac events via treatment with a drug\n",
    "# called dobutamine.  Dobutamine simulates the impact heavy exercise upon the heart, within a \n",
    "# population that may not otherwise be able to conduct heavy exercise\n",
    "\n",
    "# There are four classes of cardiac event that we may wish to predict\n",
    "# myocardial infarction (MI)\n",
    "# revascularization by percutaneous transluminal coronary angioplasty (PTCA)\n",
    "# coronary artery bypass grafting surgery (CABG)\n",
    "# cardiac death"
   ]
  },
  {
   "cell_type": "code",
   "execution_count": 63,
   "metadata": {
    "collapsed": false
   },
   "outputs": [],
   "source": [
    "# Import third-party modules\n",
    "\n",
    "%matplotlib inline \n",
    "\n",
    "import matplotlib.pyplot as plt\n",
    "import pandas as pd\n",
    "from scipy import stats as st"
   ]
  },
  {
   "cell_type": "code",
   "execution_count": 23,
   "metadata": {
    "collapsed": false
   },
   "outputs": [
    {
     "name": "stdout",
     "output_type": "stream",
     "text": [
      "<class 'pandas.core.frame.DataFrame'>\n",
      "\n",
      "\n",
      "   Unnamed: 0  bhr  basebp  basedp  pkhr  sbp     dp  dose  maxhr  pctMphr  \\\n",
      "0           1   92     103    9476   114   86   9804    40    100       74   \n",
      "1           2   62     139    8618   120  158  18960    40    120       82   \n",
      "2           3   62     139    8618   120  157  18840    40    120       82   \n",
      "3           4   93     118   10974   118  105  12390    30    118       72   \n",
      "\n",
      "     ...      newCABG  death  hxofHT  hxofDM     hxofCig  hxofMI  hxofPTCA  \\\n",
      "0    ...            0      0       0       0  non-smoker       1         1   \n",
      "1    ...            0      0       0       1  non-smoker       1         0   \n",
      "2    ...            0      0       0       1  non-smoker       1         0   \n",
      "3    ...            0      0       0       0  non-smoker       0         0   \n",
      "\n",
      "   hxofCABG  any.event        ecg  \n",
      "0         0          0     normal  \n",
      "1         0          1  equivocal  \n",
      "2         0          1  equivocal  \n",
      "3         0          0     normal  \n",
      "\n",
      "[4 rows x 32 columns]\n"
     ]
    },
    {
     "data": {
      "text/plain": [
       "['Unnamed: 0',\n",
       " 'bhr',\n",
       " 'basebp',\n",
       " 'basedp',\n",
       " 'pkhr',\n",
       " 'sbp',\n",
       " 'dp',\n",
       " 'dose',\n",
       " 'maxhr',\n",
       " 'pctMphr',\n",
       " 'mbp',\n",
       " 'dpmaxdo',\n",
       " 'dobdose',\n",
       " 'age',\n",
       " 'gender',\n",
       " 'baseEF',\n",
       " 'dobEF',\n",
       " 'chestpain',\n",
       " 'restwma',\n",
       " 'posSE',\n",
       " 'newMI',\n",
       " 'newPTCA',\n",
       " 'newCABG',\n",
       " 'death',\n",
       " 'hxofHT',\n",
       " 'hxofDM',\n",
       " 'hxofCig',\n",
       " 'hxofMI',\n",
       " 'hxofPTCA',\n",
       " 'hxofCABG',\n",
       " 'any.event',\n",
       " 'ecg']"
      ]
     },
     "execution_count": 23,
     "metadata": {},
     "output_type": "execute_result"
    }
   ],
   "source": [
    "# Read in the data\n",
    "stress = pd.read_csv('/Users/Philip/Documents/Python Scripts/progs/python_scripts/freestyle_eda/input/stressEcho.csv')\n",
    "\n",
    "# Take a verifying look at this data\n",
    "print stress.__class__ # make sure it's a pd.df\n",
    "print \"\\n\"\n",
    "print stress.head(n = 4) \n",
    "list(stress.columns.values) #print out the column names"
   ]
  },
  {
   "cell_type": "code",
   "execution_count": 39,
   "metadata": {
    "collapsed": false
   },
   "outputs": [
    {
     "name": "stdout",
     "output_type": "stream",
     "text": [
      "count    558.000000\n",
      "mean      67.344086\n",
      "std       12.049415\n",
      "min       26.000000\n",
      "25%       60.000000\n",
      "50%       69.000000\n",
      "75%       75.000000\n",
      "max       93.000000\n",
      "Name: age, dtype: float64\n"
     ]
    },
    {
     "data": {
      "image/png": "[encoded data removed]",
      "text/plain": [
       "<matplotlib.figure.Figure at 0xbe63da0>"
      ]
     },
     "metadata": {},
     "output_type": "display_data"
    }
   ],
   "source": [
    "# Let's get a look at how this breaks down demographically - start with age and gender\n",
    "\n",
    "# Tukey Five-Figure Summary\n",
    "print stress['age'].describe()\n",
    "# Plot the distribution\n",
    "age_plot = stress['age'].plot(kind='kde', title='Age Dist. for Both Genders', grid=True )"
   ]
  },
  {
   "cell_type": "code",
   "execution_count": 65,
   "metadata": {
    "collapsed": false
   },
   "outputs": [
    {
     "name": "stdout",
     "output_type": "stream",
     "text": [
      "<class 'pandas.core.series.Series'>\n",
      "\n",
      "\n",
      "female    338\n",
      "male      220\n",
      "Name: gender, dtype: int64\n",
      "\n",
      "\n",
      "We have 220 cases in the male dataset\n",
      "We have 338 cases in the female dataset\n",
      "\n"
     ]
    },
    {
     "data": {
      "text/plain": [
       "<matplotlib.axes._subplots.AxesSubplot at 0xd612be0>"
      ]
     },
     "execution_count": 65,
     "metadata": {},
     "output_type": "execute_result"
    },
    {
     "data": {
      "image/png": "[encoded data removed]",
      "text/plain": [
       "<matplotlib.figure.Figure at 0xce32400>"
      ]
     },
     "metadata": {},
     "output_type": "display_data"
    }
   ],
   "source": [
    "# Now let's see the gender breakdown, and if age varies by gender\n",
    "print stress['gender'].__class__\n",
    "print \"\\n\"\n",
    "print stress['gender'].value_counts()\n",
    "print \"\\n\"\n",
    "\n",
    "# Limit down to just the men\n",
    "men = stress[stress['gender'] == 'male' ]\n",
    "women = stress[stress['gender'] == 'female' ]\n",
    "\n",
    "print \"We have \" + str(men.shape[0]) + \" cases in the male dataset\"\n",
    "print \"We have \" + str(women.shape[0]) + \" cases in the female dataset\\n\"\n",
    "\n",
    "# let's get KDEs of age for both\n",
    "men['age'].plot(kind='kde', title='Age Dist. Overlay', grid=True, color='k') #black\n",
    "women['age'].plot(kind='kde', color='b') #blue\n",
    "\n"
   ]
  },
  {
   "cell_type": "code",
   "execution_count": 70,
   "metadata": {
    "collapsed": false
   },
   "outputs": [
    {
     "name": "stdout",
     "output_type": "stream",
     "text": [
      "LeveneResult(statistic=1.0580184350023911, pvalue=0.30411482569983866)\n"
     ]
    }
   ],
   "source": [
    "# These look highly similar and roughly normal - let's do a t-test\n",
    "# conduct Levene's test for equality of variances\n",
    "print st.levene(men['age'], women['age'] )\n",
    "levene_p = st.levene(men['age'], women['age'])[1] #keep the p-value\n",
    "\n"
   ]
  }
 ],
 "metadata": {
  "kernelspec": {
   "display_name": "Python 2",
   "language": "python",
   "name": "python2"
  },
  "language_info": {
   "codemirror_mode": {
    "name": "ipython",
    "version": 2
   },
   "file_extension": ".py",
   "mimetype": "text/x-python",
   "name": "python",
   "nbconvert_exporter": "python",
   "pygments_lexer": "ipython2",
   "version": "2.7.11"
  }
 },
 "nbformat": 4,
 "nbformat_minor": 0
}
