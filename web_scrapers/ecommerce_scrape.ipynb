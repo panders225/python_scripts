{
 "cells": [
  {
   "cell_type": "code",
   "execution_count": 91,
   "metadata": {
    "collapsed": true
   },
   "outputs": [],
   "source": [
    "# using the Beautiful Soup module to scrape an ecommerce website (meijer.com)\n",
    "# this effort will largely follow the tutorial available at:\n",
    "# http://web.stanford.edu/~zlotnick/TextAsData/Web_Scraping_with_Beautiful_Soup.html\n",
    "\n",
    "from bs4 import BeautifulSoup\n",
    "import urllib\n",
    "import urllib2\n"
   ]
  },
  {
   "cell_type": "code",
   "execution_count": 4,
   "metadata": {
    "collapsed": false
   },
   "outputs": [
    {
     "name": "stdout",
     "output_type": "stream",
     "text": [
      "<type 'str'>\n",
      "<class 'bs4.BeautifulSoup'>\n"
     ]
    }
   ],
   "source": [
    "# Going to take a look at the homepage for meijer.com, a grocery chain headquarted in\n",
    "# MI, US\n",
    "\n",
    "# the header will allow us to engage with the site's host server\n",
    "headers = { 'User-Agent' : 'Mozilla/5.0' }\n",
    "req = urllib2.Request( 'https://www.meijer.com/', None, headers )\n",
    "r = urllib2.urlopen(req).read()\n",
    "\n",
    "print type(r)\n",
    "soup = BeautifulSoup(r) #potential code warning is fine\n",
    "print type(soup)"
   ]
  },
  {
   "cell_type": "code",
   "execution_count": 22,
   "metadata": {
    "collapsed": false
   },
   "outputs": [
    {
     "name": "stdout",
     "output_type": "stream",
     "text": [
      "<!DOCTYPE html>\n",
      "<html>\n",
      " <head>\n",
      "  <title>\n",
      "   Meijer | Groceries, Pharmacy, Electronics, Home, Style | Meijer.com\n",
      "  </title>\n",
      "  <meta content=\"IE=Edge\" http-equiv=\"X-UA-Compatible\"/>\n",
      "  <meta content=\"text/html; charset=utf-8\" http-equiv=\"Content-Type\"/>\n",
      "  <meta content=\"meijer stores, meijer food stores, meijer weekly ad, meijer pharmacy, meijer credit card, meijer stores in michigan, meijer stores company, meijer stores in michigan company, meijer weekly ad, meijer store locations, miejer, mierer.com, meijers, meijer's, mejer, meier, meiers, mijer, mijers, grocery, fresh food, produce, meats, deli, bakery, electronics, clothing, name brands, furniture, home decor, DIY, health &amp; beauty, pharmacy, prescriptions, free antibiotics, photo\r\n",
      "\" name=\"keywords\"/>\n",
      "  <meta content=\"Find low prices on all of your Grocery, Pharmacy, Gift Card, Electronics, Home, and Style essentials at Meijer. \" name=\"description\"/>\n",
      "  <meta content=\"INDEX, FOLLOW\" name=\"ROBOTS\"/>\n",
      "  <meta content=\"width=device-width, initial-scale=1, maximum-scale=1\" name=\"viewport\"/>\n",
      "  <link href=\"/css/vendor.css\" rel=\"stylesheet\" type=\"text/css\"/>\n",
      "  <link href=\"/css/style.css\" rel=\"stylesheet\" type=\"text/css\"/>\n",
      "  <link href=\"/css/pgwmodal.min.css\" rel=\"stylesheet\" type=\"text/css\"/>\n",
      "  <link href=\"/css/mjr-style-guide.css\" rel=\"stylesheet\" type=\"text/css\"/>\n",
      "  <link href=\"/css/meijer-guide.css\" rel=\"stylesheet\" type=\"text/css\"/>\n",
      "  <link href=\"/css/cms_styles.css\" rel=\"stylesheet\" type=\"text/css\"/>\n",
      "  <link href=\"/css/print.css\" rel=\"stylesheet\" type=\"text/css\"/>\n",
      "  <script src=\"/js/modernizr.js\" type=\"text/javascript\">\n",
      "  </script>\n",
      "  <script src=\"/js/jquery-1.8.3.min.js\" type=\"text/javascript\">\n",
      "  </script>\n",
      "  <script src=\"/js/jquery-ui-custom-1.8.6.min.js\" type=\"text/javascript\">\n",
      "  </script>\n",
      "  <script src=\"/js/jquery.rwdImageMaps.min.js\" type=\"text/javascript\">\n",
      "  </script>\n",
      "  <script src=\"/js/akamai_geolocation_js.jsp\" type=\"text/javascript\">\n",
      "  </script>\n",
      "  <script type=\"text/javascript\">\n",
      "   var endeca_xhr_url = '/cat\n"
     ]
    }
   ],
   "source": [
    "# soup should contain the HTML of the source page - let's take a quick look\n",
    "print soup.prettify()[0:2000]"
   ]
  },
  {
   "cell_type": "code",
   "execution_count": 35,
   "metadata": {
    "collapsed": false
   },
   "outputs": [
    {
     "name": "stdout",
     "output_type": "stream",
     "text": [
      "<class 'bs4.element.ResultSet'>\n",
      "[<img alt=\"EXTRA hot prices! 2 day sale. BOGO FREE deals &amp; more.  Friday &amp; Saturday\" class=\"poster\" src=\"/assets/dt/content/homepage/02262017/images/scab1.jpg\"/>, <img alt=\"hello beautiful\" class=\"poster\" src=\"/assets/dt/content/homepage/02262017/images/scab2.jpg\"/>, <img alt=\"see ya, sniffles\" class=\"poster\" src=\"/assets/dt/content/homepage/02262017/images/scab3_rev1.jpg\"/>, <img alt=\"4 simple seafood recipes\" class=\"poster\" src=\"/assets/dt/content/homepage/02262017/images/scab4.jpg\"/>]\n"
     ]
    }
   ],
   "source": [
    "# The homepage is partitioned into several main feature areas\n",
    "#   {weekly ad, weekly features, brand-specific}\n",
    "# let's grab the weekly features - there are four of them\n",
    "\n",
    "# extract every HTML element that has the 'img' tag and 'poster' class\n",
    "# this is where the site hosts the weekly ad features\n",
    "\n",
    "images = soup.find_all(\"img\", class_=\"poster\")\n",
    "print type(images)\n",
    "print images\n",
    "\n",
    "#note that the below is kindof a mess"
   ]
  },
  {
   "cell_type": "code",
   "execution_count": 81,
   "metadata": {
    "collapsed": false
   },
   "outputs": [
    {
     "name": "stdout",
     "output_type": "stream",
     "text": [
      "{'see ya, sniffles': {}, '4 simple seafood recipes': {}, 'hello beautiful': {}, 'EXTRA hot prices! 2 day sale. BOGO FREE deals & more.  Friday & Saturday': {}}\n"
     ]
    }
   ],
   "source": [
    "# we will create a dict to store this information\n",
    "\n",
    "image_dict = {} #start with null dict\n",
    "\n",
    "# use article as the key\n",
    "for element in images:\n",
    "    image_dict[element[\"alt\"]] = {}\n",
    "\n",
    "print image_dict"
   ]
  },
  {
   "cell_type": "code",
   "execution_count": 83,
   "metadata": {
    "collapsed": false
   },
   "outputs": [
    {
     "name": "stdout",
     "output_type": "stream",
     "text": [
      "{'see ya, sniffles': {'link': 'https://www.meijer.com/assets/dt/content/homepage/02262017/images/scab3_rev1.jpg'}, '4 simple seafood recipes': {'link': 'https://www.meijer.com/assets/dt/content/homepage/02262017/images/scab4.jpg'}, 'hello beautiful': {'link': 'https://www.meijer.com/assets/dt/content/homepage/02262017/images/scab2.jpg'}, 'EXTRA hot prices! 2 day sale. BOGO FREE deals & more.  Friday & Saturday': {'link': 'https://www.meijer.com/assets/dt/content/homepage/02262017/images/scab1.jpg'}}\n"
     ]
    }
   ],
   "source": [
    "# now, match our key to an image link\n",
    "\n",
    "for element in images:\n",
    "    image_dict[element[\"alt\"]][\"link\"] = \"https://www.meijer.com\" + element[\"src\"]\n",
    "    \n",
    "print image_dict"
   ]
  },
  {
   "cell_type": "code",
   "execution_count": 86,
   "metadata": {
    "collapsed": false
   },
   "outputs": [
    {
     "name": "stdout",
     "output_type": "stream",
     "text": [
      "see ya, sniffles\n",
      "https://www.meijer.com/assets/dt/content/homepage/02262017/images/scab3_rev1.jpg\n",
      "4 simple seafood recipes\n",
      "https://www.meijer.com/assets/dt/content/homepage/02262017/images/scab4.jpg\n",
      "hello beautiful\n",
      "https://www.meijer.com/assets/dt/content/homepage/02262017/images/scab2.jpg\n",
      "EXTRA hot prices! 2 day sale. BOGO FREE deals & more.  Friday & Saturday\n",
      "https://www.meijer.com/assets/dt/content/homepage/02262017/images/scab1.jpg\n"
     ]
    }
   ],
   "source": [
    "# let's make it look good\n",
    "\n",
    "for item in image_dict.keys():\n",
    "    print item\n",
    "    print image_dict[item][\"link\"]"
   ]
  }
 ],
 "metadata": {
  "kernelspec": {
   "display_name": "Python 2",
   "language": "python",
   "name": "python2"
  },
  "language_info": {
   "codemirror_mode": {
    "name": "ipython",
    "version": 2
   },
   "file_extension": ".py",
   "mimetype": "text/x-python",
   "name": "python",
   "nbconvert_exporter": "python",
   "pygments_lexer": "ipython2",
   "version": "2.7.11"
  }
 },
 "nbformat": 4,
 "nbformat_minor": 0
}
